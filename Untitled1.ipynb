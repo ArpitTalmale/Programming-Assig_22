{
 "cells": [
  {
   "cell_type": "markdown",
   "id": "3b2108d8",
   "metadata": {},
   "source": [
    "### 1.Create a function that takes three parameters where:\n",
    "x is the start of the range (inclusive).\n",
    "y is the end of the range (inclusive).\n",
    "n is the divisor to be checked against.\n",
    "\n",
    "Return an ordered list with numbers in the range that are divisible by the third parameter n. Return an empty list if there are no numbers that are divisible by n. Examples:\n",
    "list_operation(1, 10, 3) ➞ [3, 6, 9]\n",
    "list_operation(7, 9, 2) ➞ [8]\n",
    "list_operation(15, 20, 7) ➞ []"
   ]
  },
  {
   "cell_type": "code",
   "execution_count": 1,
   "id": "dac96191",
   "metadata": {},
   "outputs": [
    {
     "name": "stdout",
     "output_type": "stream",
     "text": [
      "list_operation (1, 10, 3) --> [3, 6, 9]\n",
      "list_operation (7, 9, 2) --> [8]\n",
      "list_operation (15, 20, 7) --> []\n"
     ]
    }
   ],
   "source": [
    "#Solution:-\n",
    "\n",
    "def para(x,y,n):\n",
    "    out_list = []\n",
    "    for i in range(x,y):\n",
    "        if i % n == 0:\n",
    "            out_list.append(i)\n",
    "    print(f\"list_operation {x,y,n} --> {out_list}\")\n",
    "para(1,10,3)\n",
    "para(7,9,2)\n",
    "para(15,20,7)"
   ]
  },
  {
   "cell_type": "markdown",
   "id": "480d07ef",
   "metadata": {},
   "source": [
    "### 2.Create a function that takes in two lists and returns True if the second list follows the first list by one element, and False otherwise. In other words, determine if the second list is the first list shifted to the right by 1.\n",
    "Examples:\n",
    "simon_says([1, 2], [5, 1]) ➞ True\n",
    "simon_says([1, 2], [5, 5]) ➞ False\n",
    "simon_says([1, 2, 3, 4, 5], [0, 1, 2, 3, 4]) ➞ True\n",
    "simon_says([1, 2, 3, 4, 5], [5, 5, 1, 2, 3]) ➞ False\n",
    "\n",
    "Notes:\n",
    "1. Both input lists will be of the same length, and will have a minimum length of 2.\n",
    "2. The values of the 0-indexed element in the second list and the n-1th indexed element in the first list do not matter.\n"
   ]
  },
  {
   "cell_type": "code",
   "execution_count": 3,
   "id": "c0197ce9",
   "metadata": {},
   "outputs": [
    {
     "name": "stdout",
     "output_type": "stream",
     "text": [
      "simon_says ([1, 2], [5, 1]) --> True\n",
      " simon_says ([1, 2], [5, 5]) --> False\n",
      "simon_says ([1, 2, 3, 4, 5], [0, 1, 2, 3, 4]) --> True\n",
      " simon_says ([1, 2, 3, 4, 5], [5, 5, 1, 2, 3]) --> False\n"
     ]
    }
   ],
   "source": [
    "#Solution:-\n",
    "\n",
    "def simon_says(l1,l2):\n",
    "    if len(l1)==len(l2) and len(l1)>=2 and len(l2)>=2:\n",
    "        if l1[:-1] == l2[1:]:\n",
    "            print(f\"simon_says {l1,l2} --> {True}\")\n",
    "        else:\n",
    "             print(f\" simon_says {l1,l2} --> {False}\")\n",
    "                   \n",
    "simon_says([1, 2], [5, 1])\n",
    "simon_says([1, 2], [5, 5])\n",
    "simon_says([1, 2, 3, 4, 5], [0, 1, 2, 3, 4])\n",
    "simon_says([1, 2, 3, 4, 5], [5, 5, 1, 2, 3])                   \n",
    "                   \n",
    "                  "
   ]
  },
  {
   "cell_type": "markdown",
   "id": "f5bef8d3",
   "metadata": {},
   "source": [
    "### 3.A group of friends have decided to start a secret society. The name will be the first letter of each of their names, sorted in a alphabetical order ? Create a function that takes in a list of names and returns the name of the secret society ?\n",
    "Examples:\n",
    "society_name([\"Adam\", \"Sarah\", \"Malcolm\"]) ➞ \"AMS\"\n",
    "society_name([\"Harry\", \"Newt\", \"Luna\", \"Cho\"]) ➞ \"CHLN\"\n",
    "society_name([\"Phoebe\", \"Chandler\", \"Rachel\", \"Ross\", \"Monica\", \"Joey\"])"
   ]
  },
  {
   "cell_type": "code",
   "execution_count": 6,
   "id": "1db1b7e3",
   "metadata": {},
   "outputs": [
    {
     "name": "stdout",
     "output_type": "stream",
     "text": [
      "society_name [['Adam', 'Sarah', 'Malcolm']] --> AMS\n",
      "society_name [['Harry', 'Newt', 'Luna', 'Cho']] --> CHLN\n",
      "society_name [['Phoebe', 'Chandler', 'Rachel', 'Ross', 'Monica', 'Joey']] --> CJMPRR\n"
     ]
    }
   ],
   "source": [
    "#Solution:-\n",
    "\n",
    "def society_name(l1):\n",
    "    out  = []\n",
    "    for i in l1:\n",
    "        out.append(i[0])\n",
    "    print(f\"society_name {[l1]} --> {''.join(sorted(out))}\")\n",
    "    \n",
    "society_name([\"Adam\", \"Sarah\", \"Malcolm\"])  \n",
    "society_name([\"Harry\", \"Newt\", \"Luna\", \"Cho\"])\n",
    "society_name([\"Phoebe\", \"Chandler\", \"Rachel\", \"Ross\", \"Monica\", \"Joey\"])"
   ]
  },
  {
   "cell_type": "markdown",
   "id": "e4c3bcf7",
   "metadata": {},
   "source": [
    "### 4.An isogram is a word that has no duplicate letters. Create a function that takes a string and returns either True or False depending on whether or not it's an \"isogram\".\n",
    "Examples:\n",
    "is_isogram(\"Algorism\") ➞ True\n",
    "is_isogram(\"PasSword\") ➞ False\n",
    "### Not case sensitive.\n",
    "is_isogram(\"Consecutive\") ➞ False\n",
    "\n",
    "Notes:\n",
    "Ignore letter case (should not be case sensitive).\n",
    "All test cases contain valid one word strings."
   ]
  },
  {
   "cell_type": "code",
   "execution_count": 7,
   "id": "6ba9026d",
   "metadata": {},
   "outputs": [
    {
     "name": "stdout",
     "output_type": "stream",
     "text": [
      "Algorism --> True\n",
      "PasSword --> False\n",
      "Consecutive --> False\n"
     ]
    }
   ],
   "source": [
    "#Solution:-\n",
    "\n",
    "def is_isogram(in_string):\n",
    "    lower_in_string = in_string.lower()\n",
    "    if len(lower_in_string) == len(set(lower_in_string)):\n",
    "        print(f'{in_string} --> {True}')\n",
    "    else:\n",
    "        print(f'{in_string} --> {False}')\n",
    "    \n",
    "is_isogram(\"Algorism\")\n",
    "is_isogram(\"PasSword\")\n",
    "is_isogram(\"Consecutive\")"
   ]
  },
  {
   "cell_type": "markdown",
   "id": "6bcb5e00",
   "metadata": {},
   "source": [
    "### 5.Create a function that takes a string and returns True or False, depending on whether the characters are in order or not ?\n",
    "Examples:\n",
    "is_in_order(\"abc\") ➞ True\n",
    "is_in_order(\"edabit\") ➞ False\n",
    "is_in_order(\"123\") ➞ True\n",
    "is_in_order(\"xyzz\") ➞ True\n",
    "\n",
    "Notes:\n",
    "You don't have to handle empty strings"
   ]
  },
  {
   "cell_type": "code",
   "execution_count": 9,
   "id": "8ba61e59",
   "metadata": {},
   "outputs": [
    {
     "name": "stdout",
     "output_type": "stream",
     "text": [
      "is_in_order abc --> True\n",
      "is_in_order edabit --> False\n",
      "is_in_order 123 --> True\n",
      "is_in_order xyzz --> True\n"
     ]
    }
   ],
   "source": [
    "#Solution:-\n",
    "\n",
    "def is_in_order(inp_str):\n",
    "    order_str = ''.join(sorted(inp_str))\n",
    "    if inp_str == order_str:\n",
    "        print(f\"is_in_order {inp_str} --> {True}\")\n",
    "    else:\n",
    "        print(f\"is_in_order {inp_str} --> {False}\")\n",
    "        \n",
    "        \n",
    "is_in_order(\"abc\")\n",
    "is_in_order(\"edabit\")\n",
    "is_in_order(\"123\")\n",
    "is_in_order(\"xyzz\")              "
   ]
  }
 ],
 "metadata": {
  "kernelspec": {
   "display_name": "Python 3 (ipykernel)",
   "language": "python",
   "name": "python3"
  },
  "language_info": {
   "codemirror_mode": {
    "name": "ipython",
    "version": 3
   },
   "file_extension": ".py",
   "mimetype": "text/x-python",
   "name": "python",
   "nbconvert_exporter": "python",
   "pygments_lexer": "ipython3",
   "version": "3.10.9"
  }
 },
 "nbformat": 4,
 "nbformat_minor": 5
}
